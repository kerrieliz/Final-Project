{
 "cells": [
  {
   "cell_type": "code",
   "execution_count": 302,
   "metadata": {},
   "outputs": [
    {
     "name": "stdout",
     "output_type": "stream",
     "text": [
      "Collecting scikit-plot\n",
      "  Using cached https://files.pythonhosted.org/packages/7c/47/32520e259340c140a4ad27c1b97050dd3254fdc517b1d59974d47037510e/scikit_plot-0.3.7-py3-none-any.whl\n",
      "Requirement already satisfied: scipy>=0.9 in /anaconda3/envs/PythonData/lib/python3.6/site-packages (from scikit-plot) (1.4.1)\n",
      "Requirement already satisfied: joblib>=0.10 in /anaconda3/envs/PythonData/lib/python3.6/site-packages (from scikit-plot) (0.13.2)\n",
      "Requirement already satisfied: matplotlib>=1.4.0 in /anaconda3/envs/PythonData/lib/python3.6/site-packages (from scikit-plot) (3.1.1)\n",
      "Requirement already satisfied: scikit-learn>=0.18 in /anaconda3/envs/PythonData/lib/python3.6/site-packages (from scikit-plot) (0.21.2)\n",
      "Requirement already satisfied: numpy>=1.13.3 in /anaconda3/envs/PythonData/lib/python3.6/site-packages (from scipy>=0.9->scikit-plot) (1.16.4)\n",
      "Requirement already satisfied: cycler>=0.10 in /anaconda3/envs/PythonData/lib/python3.6/site-packages (from matplotlib>=1.4.0->scikit-plot) (0.10.0)\n",
      "Requirement already satisfied: kiwisolver>=1.0.1 in /anaconda3/envs/PythonData/lib/python3.6/site-packages (from matplotlib>=1.4.0->scikit-plot) (1.1.0)\n",
      "Requirement already satisfied: pyparsing!=2.0.4,!=2.1.2,!=2.1.6,>=2.0.1 in /anaconda3/envs/PythonData/lib/python3.6/site-packages (from matplotlib>=1.4.0->scikit-plot) (2.4.2)\n",
      "Requirement already satisfied: python-dateutil>=2.1 in /anaconda3/envs/PythonData/lib/python3.6/site-packages (from matplotlib>=1.4.0->scikit-plot) (2.8.0)\n",
      "Requirement already satisfied: six in /anaconda3/envs/PythonData/lib/python3.6/site-packages (from cycler>=0.10->matplotlib>=1.4.0->scikit-plot) (1.12.0)\n",
      "Requirement already satisfied: setuptools in /anaconda3/envs/PythonData/lib/python3.6/site-packages (from kiwisolver>=1.0.1->matplotlib>=1.4.0->scikit-plot) (42.0.2)\n",
      "Installing collected packages: scikit-plot\n",
      "Successfully installed scikit-plot-0.3.7\n",
      "Note: you may need to restart the kernel to use updated packages.\n"
     ]
    }
   ],
   "source": [
    "pip install scikit-plot"
   ]
  },
  {
   "cell_type": "code",
   "execution_count": 303,
   "metadata": {},
   "outputs": [],
   "source": [
    "import tensorflow as tf\n",
    "from keras.models import Sequential\n",
    "from keras.utils import to_categorical\n",
    "from keras.layers import Dense\n",
    "from keras.callbacks import EarlyStopping\n",
    "\n",
    "# Clean and Preprocess Data for Machine Learning\n",
    "import numpy as np\n",
    "import pandas as pd\n",
    "\n",
    "import matplotlib.pyplot as plt\n",
    "%matplotlib inline"
   ]
  },
  {
   "cell_type": "code",
   "execution_count": 304,
   "metadata": {},
   "outputs": [],
   "source": [
    "#Import and create DataFrames\n",
    "kderby_stats = pd.read_csv('K_Derby_Stats_2019-2008.csv')\n",
    "kderby_placing_order = pd.read_csv('Kentucky_Derby_Placing_Order2008-2019.csv')"
   ]
  },
  {
   "cell_type": "code",
   "execution_count": 305,
   "metadata": {},
   "outputs": [],
   "source": [
    "kderby_stats_df = pd.DataFrame(kderby_stats) \n",
    "kderby_placing_order_df = pd.DataFrame(kderby_placing_order) "
   ]
  },
  {
   "cell_type": "code",
   "execution_count": 306,
   "metadata": {
    "scrolled": true
   },
   "outputs": [
    {
     "data": {
      "text/html": [
       "<div>\n",
       "<style scoped>\n",
       "    .dataframe tbody tr th:only-of-type {\n",
       "        vertical-align: middle;\n",
       "    }\n",
       "\n",
       "    .dataframe tbody tr th {\n",
       "        vertical-align: top;\n",
       "    }\n",
       "\n",
       "    .dataframe thead th {\n",
       "        text-align: right;\n",
       "    }\n",
       "</style>\n",
       "<table border=\"1\" class=\"dataframe\">\n",
       "  <thead>\n",
       "    <tr style=\"text-align: right;\">\n",
       "      <th></th>\n",
       "      <th>Year</th>\n",
       "      <th>Post_Position</th>\n",
       "      <th>WinnersatPost_last49yrs</th>\n",
       "      <th>ITM</th>\n",
       "      <th>Starters</th>\n",
       "      <th>ITM%atPost_last49yrs</th>\n",
       "      <th>Horse</th>\n",
       "      <th>Morning _Line</th>\n",
       "      <th>Derby_Points</th>\n",
       "      <th>Trainer</th>\n",
       "      <th>...</th>\n",
       "      <th>Dam</th>\n",
       "      <th>Dams_Sire</th>\n",
       "      <th>Tomlinson_DST</th>\n",
       "      <th>Tomlinson_Wet</th>\n",
       "      <th>BRIS_Pace</th>\n",
       "      <th>AWD_Sire</th>\n",
       "      <th>AWD_Dams_Sire</th>\n",
       "      <th>LastPrep_Finish</th>\n",
       "      <th>Dosage_Index</th>\n",
       "      <th>Finish_Position</th>\n",
       "    </tr>\n",
       "  </thead>\n",
       "  <tbody>\n",
       "    <tr>\n",
       "      <td>0</td>\n",
       "      <td>2019</td>\n",
       "      <td>1</td>\n",
       "      <td>1</td>\n",
       "      <td>6.0</td>\n",
       "      <td>47.0</td>\n",
       "      <td>13%</td>\n",
       "      <td>War of Will</td>\n",
       "      <td>15-1</td>\n",
       "      <td>60</td>\n",
       "      <td>Casse</td>\n",
       "      <td>...</td>\n",
       "      <td>Visions of Clarity</td>\n",
       "      <td>Sadler's Wells</td>\n",
       "      <td>370.0</td>\n",
       "      <td>329.0</td>\n",
       "      <td>117.0</td>\n",
       "      <td>7.3</td>\n",
       "      <td>10.7</td>\n",
       "      <td>9th, Louisiana Derby</td>\n",
       "      <td>1.72</td>\n",
       "      <td>7.0</td>\n",
       "    </tr>\n",
       "    <tr>\n",
       "      <td>1</td>\n",
       "      <td>2019</td>\n",
       "      <td>2</td>\n",
       "      <td>4</td>\n",
       "      <td>12.0</td>\n",
       "      <td>49.0</td>\n",
       "      <td>24%</td>\n",
       "      <td>Tax</td>\n",
       "      <td>20-1</td>\n",
       "      <td>52</td>\n",
       "      <td>Gargan</td>\n",
       "      <td>...</td>\n",
       "      <td>Toll</td>\n",
       "      <td>Giant's Causeway</td>\n",
       "      <td>338.0</td>\n",
       "      <td>405.0</td>\n",
       "      <td>116.0</td>\n",
       "      <td>7.9</td>\n",
       "      <td>8.1</td>\n",
       "      <td>2nd, Wood Memorial</td>\n",
       "      <td>1.56</td>\n",
       "      <td>14.0</td>\n",
       "    </tr>\n",
       "    <tr>\n",
       "      <td>2</td>\n",
       "      <td>2019</td>\n",
       "      <td>3</td>\n",
       "      <td>4</td>\n",
       "      <td>11.0</td>\n",
       "      <td>49.0</td>\n",
       "      <td>22%</td>\n",
       "      <td>By My Standards</td>\n",
       "      <td>15-1</td>\n",
       "      <td>100</td>\n",
       "      <td>Calhoun</td>\n",
       "      <td>...</td>\n",
       "      <td>A Jealous Woman</td>\n",
       "      <td>Muqtarib</td>\n",
       "      <td>252.0</td>\n",
       "      <td>292.0</td>\n",
       "      <td>104.0</td>\n",
       "      <td>6.3</td>\n",
       "      <td>5.8</td>\n",
       "      <td>1st, Louisiana Derby</td>\n",
       "      <td>3.00</td>\n",
       "      <td>11.0</td>\n",
       "    </tr>\n",
       "    <tr>\n",
       "      <td>3</td>\n",
       "      <td>2019</td>\n",
       "      <td>4</td>\n",
       "      <td>6</td>\n",
       "      <td>9.0</td>\n",
       "      <td>49.0</td>\n",
       "      <td>18%</td>\n",
       "      <td>Gray Magician</td>\n",
       "      <td>50-1</td>\n",
       "      <td>41</td>\n",
       "      <td>Miller</td>\n",
       "      <td>...</td>\n",
       "      <td>Burg Berg</td>\n",
       "      <td>Johannesburg</td>\n",
       "      <td>227.0</td>\n",
       "      <td>393.0</td>\n",
       "      <td>105.0</td>\n",
       "      <td>6.7</td>\n",
       "      <td>7</td>\n",
       "      <td>2nd, UAE Derby</td>\n",
       "      <td>5.00</td>\n",
       "      <td>19.0</td>\n",
       "    </tr>\n",
       "    <tr>\n",
       "      <td>4</td>\n",
       "      <td>2019</td>\n",
       "      <td>5</td>\n",
       "      <td>6</td>\n",
       "      <td>13.0</td>\n",
       "      <td>49.0</td>\n",
       "      <td>27%</td>\n",
       "      <td>Improbable</td>\n",
       "      <td>1-May</td>\n",
       "      <td>65</td>\n",
       "      <td>Baffert</td>\n",
       "      <td>...</td>\n",
       "      <td>Rare Event</td>\n",
       "      <td>A.P. Indy</td>\n",
       "      <td>308.0</td>\n",
       "      <td>443.0</td>\n",
       "      <td>112.0</td>\n",
       "      <td>6.5</td>\n",
       "      <td>8.2</td>\n",
       "      <td>2nd, Arkansas Derby</td>\n",
       "      <td>4.23</td>\n",
       "      <td>4.0</td>\n",
       "    </tr>\n",
       "  </tbody>\n",
       "</table>\n",
       "<p>5 rows × 25 columns</p>\n",
       "</div>"
      ],
      "text/plain": [
       "   Year  Post_Position WinnersatPost_last49yrs   ITM  Starters  \\\n",
       "0  2019              1                       1   6.0      47.0   \n",
       "1  2019              2                       4  12.0      49.0   \n",
       "2  2019              3                       4  11.0      49.0   \n",
       "3  2019              4                       6   9.0      49.0   \n",
       "4  2019              5                       6  13.0      49.0   \n",
       "\n",
       "  ITM%atPost_last49yrs            Horse Morning _Line Derby_Points  Trainer  \\\n",
       "0                  13%      War of Will          15-1           60    Casse   \n",
       "1                  24%              Tax          20-1           52   Gargan   \n",
       "2                  22%  By My Standards          15-1          100  Calhoun   \n",
       "3                  18%    Gray Magician          50-1           41   Miller   \n",
       "4                  27%       Improbable         1-May           65  Baffert   \n",
       "\n",
       "   ...                 Dam         Dams_Sire Tomlinson_DST Tomlinson_Wet  \\\n",
       "0  ...  Visions of Clarity    Sadler's Wells         370.0         329.0   \n",
       "1  ...                Toll  Giant's Causeway         338.0         405.0   \n",
       "2  ...     A Jealous Woman          Muqtarib         252.0         292.0   \n",
       "3  ...           Burg Berg      Johannesburg         227.0         393.0   \n",
       "4  ...          Rare Event         A.P. Indy         308.0         443.0   \n",
       "\n",
       "  BRIS_Pace  AWD_Sire  AWD_Dams_Sire       LastPrep_Finish  Dosage_Index  \\\n",
       "0     117.0       7.3           10.7  9th, Louisiana Derby          1.72   \n",
       "1     116.0       7.9            8.1    2nd, Wood Memorial          1.56   \n",
       "2     104.0       6.3            5.8  1st, Louisiana Derby          3.00   \n",
       "3     105.0       6.7              7        2nd, UAE Derby          5.00   \n",
       "4     112.0       6.5            8.2   2nd, Arkansas Derby          4.23   \n",
       "\n",
       "   Finish_Position  \n",
       "0              7.0  \n",
       "1             14.0  \n",
       "2             11.0  \n",
       "3             19.0  \n",
       "4              4.0  \n",
       "\n",
       "[5 rows x 25 columns]"
      ]
     },
     "execution_count": 306,
     "metadata": {},
     "output_type": "execute_result"
    }
   ],
   "source": [
    "# Merge CSV's to create one dataframe \n",
    "merge_tables = pd.merge(kderby_stats_df, kderby_placing_order_df, how='left', left_on=['Horse','Year'], right_on = ['Horse','Year'])\n",
    "merge_tables.head()\n"
   ]
  },
  {
   "cell_type": "code",
   "execution_count": 307,
   "metadata": {},
   "outputs": [
    {
     "data": {
      "text/html": [
       "<div>\n",
       "<style scoped>\n",
       "    .dataframe tbody tr th:only-of-type {\n",
       "        vertical-align: middle;\n",
       "    }\n",
       "\n",
       "    .dataframe tbody tr th {\n",
       "        vertical-align: top;\n",
       "    }\n",
       "\n",
       "    .dataframe thead th {\n",
       "        text-align: right;\n",
       "    }\n",
       "</style>\n",
       "<table border=\"1\" class=\"dataframe\">\n",
       "  <thead>\n",
       "    <tr style=\"text-align: right;\">\n",
       "      <th></th>\n",
       "      <th>Year</th>\n",
       "      <th>Post_Position</th>\n",
       "      <th>WinnersatPost_last49yrs</th>\n",
       "      <th>ITM</th>\n",
       "      <th>Starters</th>\n",
       "      <th>ITM%atPost_last49yrs</th>\n",
       "      <th>Horse</th>\n",
       "      <th>Morning _Line</th>\n",
       "      <th>Derby_Points</th>\n",
       "      <th>Trainer</th>\n",
       "      <th>...</th>\n",
       "      <th>Dams_Sire</th>\n",
       "      <th>Tomlinson_DST</th>\n",
       "      <th>Tomlinson_Wet</th>\n",
       "      <th>BRIS_Pace</th>\n",
       "      <th>AWD_Sire</th>\n",
       "      <th>AWD_Dams_Sire</th>\n",
       "      <th>LastPrep_Finish</th>\n",
       "      <th>Dosage_Index</th>\n",
       "      <th>Finish_Position</th>\n",
       "      <th>Place_Bins</th>\n",
       "    </tr>\n",
       "  </thead>\n",
       "  <tbody>\n",
       "    <tr>\n",
       "      <td>0</td>\n",
       "      <td>2019</td>\n",
       "      <td>1</td>\n",
       "      <td>1</td>\n",
       "      <td>6.0</td>\n",
       "      <td>47.0</td>\n",
       "      <td>13%</td>\n",
       "      <td>War of Will</td>\n",
       "      <td>15-1</td>\n",
       "      <td>60</td>\n",
       "      <td>Casse</td>\n",
       "      <td>...</td>\n",
       "      <td>Sadler's Wells</td>\n",
       "      <td>370.0</td>\n",
       "      <td>329.0</td>\n",
       "      <td>117.0</td>\n",
       "      <td>7.3</td>\n",
       "      <td>10.7</td>\n",
       "      <td>9th, Louisiana Derby</td>\n",
       "      <td>1.72</td>\n",
       "      <td>7.0</td>\n",
       "      <td>2</td>\n",
       "    </tr>\n",
       "    <tr>\n",
       "      <td>1</td>\n",
       "      <td>2019</td>\n",
       "      <td>2</td>\n",
       "      <td>4</td>\n",
       "      <td>12.0</td>\n",
       "      <td>49.0</td>\n",
       "      <td>24%</td>\n",
       "      <td>Tax</td>\n",
       "      <td>20-1</td>\n",
       "      <td>52</td>\n",
       "      <td>Gargan</td>\n",
       "      <td>...</td>\n",
       "      <td>Giant's Causeway</td>\n",
       "      <td>338.0</td>\n",
       "      <td>405.0</td>\n",
       "      <td>116.0</td>\n",
       "      <td>7.9</td>\n",
       "      <td>8.1</td>\n",
       "      <td>2nd, Wood Memorial</td>\n",
       "      <td>1.56</td>\n",
       "      <td>14.0</td>\n",
       "      <td>4</td>\n",
       "    </tr>\n",
       "    <tr>\n",
       "      <td>2</td>\n",
       "      <td>2019</td>\n",
       "      <td>3</td>\n",
       "      <td>4</td>\n",
       "      <td>11.0</td>\n",
       "      <td>49.0</td>\n",
       "      <td>22%</td>\n",
       "      <td>By My Standards</td>\n",
       "      <td>15-1</td>\n",
       "      <td>100</td>\n",
       "      <td>Calhoun</td>\n",
       "      <td>...</td>\n",
       "      <td>Muqtarib</td>\n",
       "      <td>252.0</td>\n",
       "      <td>292.0</td>\n",
       "      <td>104.0</td>\n",
       "      <td>6.3</td>\n",
       "      <td>5.8</td>\n",
       "      <td>1st, Louisiana Derby</td>\n",
       "      <td>3.00</td>\n",
       "      <td>11.0</td>\n",
       "      <td>3</td>\n",
       "    </tr>\n",
       "    <tr>\n",
       "      <td>3</td>\n",
       "      <td>2019</td>\n",
       "      <td>4</td>\n",
       "      <td>6</td>\n",
       "      <td>9.0</td>\n",
       "      <td>49.0</td>\n",
       "      <td>18%</td>\n",
       "      <td>Gray Magician</td>\n",
       "      <td>50-1</td>\n",
       "      <td>41</td>\n",
       "      <td>Miller</td>\n",
       "      <td>...</td>\n",
       "      <td>Johannesburg</td>\n",
       "      <td>227.0</td>\n",
       "      <td>393.0</td>\n",
       "      <td>105.0</td>\n",
       "      <td>6.7</td>\n",
       "      <td>7</td>\n",
       "      <td>2nd, UAE Derby</td>\n",
       "      <td>5.00</td>\n",
       "      <td>19.0</td>\n",
       "      <td>5</td>\n",
       "    </tr>\n",
       "    <tr>\n",
       "      <td>4</td>\n",
       "      <td>2019</td>\n",
       "      <td>5</td>\n",
       "      <td>6</td>\n",
       "      <td>13.0</td>\n",
       "      <td>49.0</td>\n",
       "      <td>27%</td>\n",
       "      <td>Improbable</td>\n",
       "      <td>1-May</td>\n",
       "      <td>65</td>\n",
       "      <td>Baffert</td>\n",
       "      <td>...</td>\n",
       "      <td>A.P. Indy</td>\n",
       "      <td>308.0</td>\n",
       "      <td>443.0</td>\n",
       "      <td>112.0</td>\n",
       "      <td>6.5</td>\n",
       "      <td>8.2</td>\n",
       "      <td>2nd, Arkansas Derby</td>\n",
       "      <td>4.23</td>\n",
       "      <td>4.0</td>\n",
       "      <td>2</td>\n",
       "    </tr>\n",
       "  </tbody>\n",
       "</table>\n",
       "<p>5 rows × 26 columns</p>\n",
       "</div>"
      ],
      "text/plain": [
       "   Year  Post_Position WinnersatPost_last49yrs   ITM  Starters  \\\n",
       "0  2019              1                       1   6.0      47.0   \n",
       "1  2019              2                       4  12.0      49.0   \n",
       "2  2019              3                       4  11.0      49.0   \n",
       "3  2019              4                       6   9.0      49.0   \n",
       "4  2019              5                       6  13.0      49.0   \n",
       "\n",
       "  ITM%atPost_last49yrs            Horse Morning _Line Derby_Points  Trainer  \\\n",
       "0                  13%      War of Will          15-1           60    Casse   \n",
       "1                  24%              Tax          20-1           52   Gargan   \n",
       "2                  22%  By My Standards          15-1          100  Calhoun   \n",
       "3                  18%    Gray Magician          50-1           41   Miller   \n",
       "4                  27%       Improbable         1-May           65  Baffert   \n",
       "\n",
       "   ...         Dams_Sire Tomlinson_DST Tomlinson_Wet BRIS_Pace  AWD_Sire  \\\n",
       "0  ...    Sadler's Wells         370.0         329.0     117.0       7.3   \n",
       "1  ...  Giant's Causeway         338.0         405.0     116.0       7.9   \n",
       "2  ...          Muqtarib         252.0         292.0     104.0       6.3   \n",
       "3  ...      Johannesburg         227.0         393.0     105.0       6.7   \n",
       "4  ...         A.P. Indy         308.0         443.0     112.0       6.5   \n",
       "\n",
       "   AWD_Dams_Sire       LastPrep_Finish  Dosage_Index  Finish_Position  \\\n",
       "0           10.7  9th, Louisiana Derby          1.72              7.0   \n",
       "1            8.1    2nd, Wood Memorial          1.56             14.0   \n",
       "2            5.8  1st, Louisiana Derby          3.00             11.0   \n",
       "3              7        2nd, UAE Derby          5.00             19.0   \n",
       "4            8.2   2nd, Arkansas Derby          4.23              4.0   \n",
       "\n",
       "   Place_Bins  \n",
       "0           2  \n",
       "1           4  \n",
       "2           3  \n",
       "3           5  \n",
       "4           2  \n",
       "\n",
       "[5 rows x 26 columns]"
      ]
     },
     "execution_count": 307,
     "metadata": {},
     "output_type": "execute_result"
    }
   ],
   "source": [
    "#create new dataframe with only the desired columns, create a bin, and drop na  \n",
    "bins = [1, 3, 9, 12, 18, 20]\n",
    "#labels = [\"1\",\"2\",\"3\", \"4\", \"5\"]\n",
    "merge_tables['Place_Bins'] = pd.cut(merge_tables['Finish_Position'], bins=bins, labels=labels)\n",
    "merge_tables.head()"
   ]
  },
  {
   "cell_type": "code",
   "execution_count": 308,
   "metadata": {},
   "outputs": [
    {
     "data": {
      "text/plain": [
       "False"
      ]
     },
     "execution_count": 308,
     "metadata": {},
     "output_type": "execute_result"
    }
   ],
   "source": [
    "new_table = merge_tables[['Starters', 'Dosage_Index', 'Place_Bins']].dropna()\n",
    "new_table.isnull().values.any()"
   ]
  },
  {
   "cell_type": "code",
   "execution_count": 309,
   "metadata": {},
   "outputs": [],
   "source": [
    "#new_table['Place_Bins'] = new_table['Place_Bins'].astype(float)\n",
    "new_table['Place_Bins'] = pd.to_numeric(new_table['Place_Bins'],errors='coerce')\n"
   ]
  },
  {
   "cell_type": "code",
   "execution_count": 310,
   "metadata": {},
   "outputs": [
    {
     "data": {
      "text/plain": [
       "Starters        float64\n",
       "Dosage_Index    float64\n",
       "Place_Bins        int64\n",
       "dtype: object"
      ]
     },
     "execution_count": 310,
     "metadata": {},
     "output_type": "execute_result"
    }
   ],
   "source": [
    "new_table.dtypes"
   ]
  },
  {
   "cell_type": "code",
   "execution_count": 311,
   "metadata": {},
   "outputs": [],
   "source": [
    "X = new_table[[\"Starters\",\"Dosage_Index\"]]\n",
    "y = new_table[[\"Place_Bins\"]]"
   ]
  },
  {
   "cell_type": "code",
   "execution_count": 312,
   "metadata": {},
   "outputs": [],
   "source": [
    "#plt.scatter(X, X, c=y)"
   ]
  },
  {
   "cell_type": "code",
   "execution_count": 313,
   "metadata": {},
   "outputs": [
    {
     "name": "stdout",
     "output_type": "stream",
     "text": [
      "(178, 2) (178, 1)\n"
     ]
    }
   ],
   "source": [
    "print(X.shape, y.shape)"
   ]
  },
  {
   "cell_type": "code",
   "execution_count": 314,
   "metadata": {},
   "outputs": [],
   "source": [
    "from sklearn.model_selection import train_test_split\n",
    "\n",
    "X_train, X_test, y_train, y_test = train_test_split(X, y, random_state=1, stratify=y)"
   ]
  },
  {
   "cell_type": "code",
   "execution_count": 315,
   "metadata": {},
   "outputs": [
    {
     "data": {
      "text/plain": [
       "LogisticRegression(C=1.0, class_weight=None, dual=False, fit_intercept=True,\n",
       "                   intercept_scaling=1, l1_ratio=None, max_iter=100,\n",
       "                   multi_class='warn', n_jobs=None, penalty='l2',\n",
       "                   random_state=None, solver='warn', tol=0.0001, verbose=0,\n",
       "                   warm_start=False)"
      ]
     },
     "execution_count": 315,
     "metadata": {},
     "output_type": "execute_result"
    }
   ],
   "source": [
    "from sklearn.linear_model import LogisticRegression\n",
    "classifier = LogisticRegression()\n",
    "classifier"
   ]
  },
  {
   "cell_type": "code",
   "execution_count": 316,
   "metadata": {},
   "outputs": [
    {
     "name": "stderr",
     "output_type": "stream",
     "text": [
      "//anaconda3/envs/PythonData/lib/python3.6/site-packages/sklearn/linear_model/logistic.py:432: FutureWarning: Default solver will be changed to 'lbfgs' in 0.22. Specify a solver to silence this warning.\n",
      "  FutureWarning)\n",
      "//anaconda3/envs/PythonData/lib/python3.6/site-packages/sklearn/utils/validation.py:724: DataConversionWarning: A column-vector y was passed when a 1d array was expected. Please change the shape of y to (n_samples, ), for example using ravel().\n",
      "  y = column_or_1d(y, warn=True)\n",
      "//anaconda3/envs/PythonData/lib/python3.6/site-packages/sklearn/linear_model/logistic.py:469: FutureWarning: Default multi_class will be changed to 'auto' in 0.22. Specify the multi_class option to silence this warning.\n",
      "  \"this warning.\", FutureWarning)\n"
     ]
    },
    {
     "data": {
      "text/plain": [
       "LogisticRegression(C=1.0, class_weight=None, dual=False, fit_intercept=True,\n",
       "                   intercept_scaling=1, l1_ratio=None, max_iter=100,\n",
       "                   multi_class='warn', n_jobs=None, penalty='l2',\n",
       "                   random_state=None, solver='warn', tol=0.0001, verbose=0,\n",
       "                   warm_start=False)"
      ]
     },
     "execution_count": 316,
     "metadata": {},
     "output_type": "execute_result"
    }
   ],
   "source": [
    "classifier.fit(X_train, y_train)"
   ]
  },
  {
   "cell_type": "code",
   "execution_count": 317,
   "metadata": {},
   "outputs": [
    {
     "name": "stdout",
     "output_type": "stream",
     "text": [
      "Training Data Score: 0.39849624060150374\n",
      "Testing Data Score: 0.37777777777777777\n"
     ]
    }
   ],
   "source": [
    "#Validate the model using the test data\n",
    "print(f\"Training Data Score: {classifier.score(X_train, y_train)}\")\n",
    "print(f\"Testing Data Score: {classifier.score(X_test, y_test)}\")"
   ]
  },
  {
   "cell_type": "code",
   "execution_count": 318,
   "metadata": {},
   "outputs": [
    {
     "name": "stdout",
     "output_type": "stream",
     "text": [
      "First 10 Predictions: [4 4 2 2 2 2 2 4 2 4]\n",
      "First 10 Actual labels: [[2], [4], [5], [2], [2], [4], [2], [4], [1], [4]]\n"
     ]
    }
   ],
   "source": [
    "#Make predictions using Logistic Regression Model\n",
    "predictions = classifier.predict(X_test)\n",
    "print(f\"First 10 Predictions: {predictions[:10]}\")\n",
    "print(f\"First 10 Actual labels: {y_test[:10].values.tolist()}\")"
   ]
  },
  {
   "cell_type": "code",
   "execution_count": 319,
   "metadata": {},
   "outputs": [],
   "source": [
    "#p_r = predictions.reshape((-1, 1))\n",
    "y_r = y_test.values.reshape((45))"
   ]
  },
  {
   "cell_type": "code",
   "execution_count": 320,
   "metadata": {
    "scrolled": true
   },
   "outputs": [
    {
     "data": {
      "text/html": [
       "<div>\n",
       "<style scoped>\n",
       "    .dataframe tbody tr th:only-of-type {\n",
       "        vertical-align: middle;\n",
       "    }\n",
       "\n",
       "    .dataframe tbody tr th {\n",
       "        vertical-align: top;\n",
       "    }\n",
       "\n",
       "    .dataframe thead th {\n",
       "        text-align: right;\n",
       "    }\n",
       "</style>\n",
       "<table border=\"1\" class=\"dataframe\">\n",
       "  <thead>\n",
       "    <tr style=\"text-align: right;\">\n",
       "      <th></th>\n",
       "      <th>Prediction</th>\n",
       "      <th>Actual</th>\n",
       "    </tr>\n",
       "  </thead>\n",
       "  <tbody>\n",
       "    <tr>\n",
       "      <td>0</td>\n",
       "      <td>4</td>\n",
       "      <td>2</td>\n",
       "    </tr>\n",
       "    <tr>\n",
       "      <td>1</td>\n",
       "      <td>4</td>\n",
       "      <td>4</td>\n",
       "    </tr>\n",
       "    <tr>\n",
       "      <td>2</td>\n",
       "      <td>2</td>\n",
       "      <td>5</td>\n",
       "    </tr>\n",
       "    <tr>\n",
       "      <td>3</td>\n",
       "      <td>2</td>\n",
       "      <td>2</td>\n",
       "    </tr>\n",
       "    <tr>\n",
       "      <td>4</td>\n",
       "      <td>2</td>\n",
       "      <td>2</td>\n",
       "    </tr>\n",
       "    <tr>\n",
       "      <td>5</td>\n",
       "      <td>2</td>\n",
       "      <td>4</td>\n",
       "    </tr>\n",
       "    <tr>\n",
       "      <td>6</td>\n",
       "      <td>2</td>\n",
       "      <td>2</td>\n",
       "    </tr>\n",
       "    <tr>\n",
       "      <td>7</td>\n",
       "      <td>4</td>\n",
       "      <td>4</td>\n",
       "    </tr>\n",
       "    <tr>\n",
       "      <td>8</td>\n",
       "      <td>2</td>\n",
       "      <td>1</td>\n",
       "    </tr>\n",
       "    <tr>\n",
       "      <td>9</td>\n",
       "      <td>4</td>\n",
       "      <td>4</td>\n",
       "    </tr>\n",
       "    <tr>\n",
       "      <td>10</td>\n",
       "      <td>2</td>\n",
       "      <td>5</td>\n",
       "    </tr>\n",
       "    <tr>\n",
       "      <td>11</td>\n",
       "      <td>4</td>\n",
       "      <td>1</td>\n",
       "    </tr>\n",
       "    <tr>\n",
       "      <td>12</td>\n",
       "      <td>4</td>\n",
       "      <td>4</td>\n",
       "    </tr>\n",
       "    <tr>\n",
       "      <td>13</td>\n",
       "      <td>4</td>\n",
       "      <td>2</td>\n",
       "    </tr>\n",
       "    <tr>\n",
       "      <td>14</td>\n",
       "      <td>4</td>\n",
       "      <td>1</td>\n",
       "    </tr>\n",
       "    <tr>\n",
       "      <td>15</td>\n",
       "      <td>2</td>\n",
       "      <td>2</td>\n",
       "    </tr>\n",
       "    <tr>\n",
       "      <td>16</td>\n",
       "      <td>2</td>\n",
       "      <td>2</td>\n",
       "    </tr>\n",
       "    <tr>\n",
       "      <td>17</td>\n",
       "      <td>2</td>\n",
       "      <td>4</td>\n",
       "    </tr>\n",
       "    <tr>\n",
       "      <td>18</td>\n",
       "      <td>2</td>\n",
       "      <td>4</td>\n",
       "    </tr>\n",
       "    <tr>\n",
       "      <td>19</td>\n",
       "      <td>4</td>\n",
       "      <td>4</td>\n",
       "    </tr>\n",
       "    <tr>\n",
       "      <td>20</td>\n",
       "      <td>2</td>\n",
       "      <td>4</td>\n",
       "    </tr>\n",
       "    <tr>\n",
       "      <td>21</td>\n",
       "      <td>2</td>\n",
       "      <td>4</td>\n",
       "    </tr>\n",
       "    <tr>\n",
       "      <td>22</td>\n",
       "      <td>2</td>\n",
       "      <td>3</td>\n",
       "    </tr>\n",
       "    <tr>\n",
       "      <td>23</td>\n",
       "      <td>2</td>\n",
       "      <td>2</td>\n",
       "    </tr>\n",
       "    <tr>\n",
       "      <td>24</td>\n",
       "      <td>4</td>\n",
       "      <td>2</td>\n",
       "    </tr>\n",
       "    <tr>\n",
       "      <td>25</td>\n",
       "      <td>2</td>\n",
       "      <td>4</td>\n",
       "    </tr>\n",
       "    <tr>\n",
       "      <td>26</td>\n",
       "      <td>2</td>\n",
       "      <td>2</td>\n",
       "    </tr>\n",
       "    <tr>\n",
       "      <td>27</td>\n",
       "      <td>2</td>\n",
       "      <td>4</td>\n",
       "    </tr>\n",
       "    <tr>\n",
       "      <td>28</td>\n",
       "      <td>4</td>\n",
       "      <td>3</td>\n",
       "    </tr>\n",
       "    <tr>\n",
       "      <td>29</td>\n",
       "      <td>2</td>\n",
       "      <td>4</td>\n",
       "    </tr>\n",
       "    <tr>\n",
       "      <td>30</td>\n",
       "      <td>2</td>\n",
       "      <td>3</td>\n",
       "    </tr>\n",
       "    <tr>\n",
       "      <td>31</td>\n",
       "      <td>4</td>\n",
       "      <td>4</td>\n",
       "    </tr>\n",
       "    <tr>\n",
       "      <td>32</td>\n",
       "      <td>4</td>\n",
       "      <td>3</td>\n",
       "    </tr>\n",
       "    <tr>\n",
       "      <td>33</td>\n",
       "      <td>4</td>\n",
       "      <td>4</td>\n",
       "    </tr>\n",
       "    <tr>\n",
       "      <td>34</td>\n",
       "      <td>2</td>\n",
       "      <td>2</td>\n",
       "    </tr>\n",
       "    <tr>\n",
       "      <td>35</td>\n",
       "      <td>4</td>\n",
       "      <td>5</td>\n",
       "    </tr>\n",
       "    <tr>\n",
       "      <td>36</td>\n",
       "      <td>2</td>\n",
       "      <td>2</td>\n",
       "    </tr>\n",
       "    <tr>\n",
       "      <td>37</td>\n",
       "      <td>4</td>\n",
       "      <td>2</td>\n",
       "    </tr>\n",
       "    <tr>\n",
       "      <td>38</td>\n",
       "      <td>4</td>\n",
       "      <td>2</td>\n",
       "    </tr>\n",
       "    <tr>\n",
       "      <td>39</td>\n",
       "      <td>4</td>\n",
       "      <td>3</td>\n",
       "    </tr>\n",
       "    <tr>\n",
       "      <td>40</td>\n",
       "      <td>2</td>\n",
       "      <td>1</td>\n",
       "    </tr>\n",
       "    <tr>\n",
       "      <td>41</td>\n",
       "      <td>2</td>\n",
       "      <td>3</td>\n",
       "    </tr>\n",
       "    <tr>\n",
       "      <td>42</td>\n",
       "      <td>2</td>\n",
       "      <td>2</td>\n",
       "    </tr>\n",
       "    <tr>\n",
       "      <td>43</td>\n",
       "      <td>2</td>\n",
       "      <td>3</td>\n",
       "    </tr>\n",
       "    <tr>\n",
       "      <td>44</td>\n",
       "      <td>2</td>\n",
       "      <td>1</td>\n",
       "    </tr>\n",
       "  </tbody>\n",
       "</table>\n",
       "</div>"
      ],
      "text/plain": [
       "    Prediction  Actual\n",
       "0            4       2\n",
       "1            4       4\n",
       "2            2       5\n",
       "3            2       2\n",
       "4            2       2\n",
       "5            2       4\n",
       "6            2       2\n",
       "7            4       4\n",
       "8            2       1\n",
       "9            4       4\n",
       "10           2       5\n",
       "11           4       1\n",
       "12           4       4\n",
       "13           4       2\n",
       "14           4       1\n",
       "15           2       2\n",
       "16           2       2\n",
       "17           2       4\n",
       "18           2       4\n",
       "19           4       4\n",
       "20           2       4\n",
       "21           2       4\n",
       "22           2       3\n",
       "23           2       2\n",
       "24           4       2\n",
       "25           2       4\n",
       "26           2       2\n",
       "27           2       4\n",
       "28           4       3\n",
       "29           2       4\n",
       "30           2       3\n",
       "31           4       4\n",
       "32           4       3\n",
       "33           4       4\n",
       "34           2       2\n",
       "35           4       5\n",
       "36           2       2\n",
       "37           4       2\n",
       "38           4       2\n",
       "39           4       3\n",
       "40           2       1\n",
       "41           2       3\n",
       "42           2       2\n",
       "43           2       3\n",
       "44           2       1"
      ]
     },
     "execution_count": 320,
     "metadata": {},
     "output_type": "execute_result"
    }
   ],
   "source": [
    "predictions = classifier.predict(X_test)\n",
    "#pd.DataFrame.from_dict({\"Prediction\": predictions, \"Actual\": y_r})\n",
    "\n",
    "prediction_df = pd.DataFrame({\"Prediction\": predictions, \"Actual\": y_r})\n",
    "prediction_df"
   ]
  },
  {
   "cell_type": "code",
   "execution_count": 321,
   "metadata": {},
   "outputs": [
    {
     "name": "stdout",
     "output_type": "stream",
     "text": [
      "MSE: 2.2, R2: 0.37777777777777777\n"
     ]
    }
   ],
   "source": [
    "from sklearn.metrics import mean_squared_error\n",
    "\n",
    "MSE = mean_squared_error(y_test, predictions)\n",
    "r2 = classifier.score(X_test, y_test)\n",
    "\n",
    "print(f\"MSE: {MSE}, R2: {r2}\")"
   ]
  },
  {
   "cell_type": "code",
   "execution_count": 322,
   "metadata": {},
   "outputs": [
    {
     "name": "stdout",
     "output_type": "stream",
     "text": [
      "First 3 Predictions: [[0.12234642 0.25882648 0.14978008 0.3525593  0.11648773]\n",
      " [0.08369297 0.29848268 0.15844491 0.38669153 0.07268791]\n",
      " [0.0551158  0.37463131 0.17740007 0.36000111 0.03285171]\n",
      " [0.18492758 0.36441891 0.20558296 0.18419316 0.06087739]\n",
      " [0.16030203 0.35465884 0.19737335 0.22296514 0.06470064]\n",
      " [0.14085799 0.38194232 0.20493505 0.22115698 0.05110766]\n",
      " [0.14264284 0.33630727 0.18655132 0.26271362 0.07178495]\n",
      " [0.09299303 0.30126866 0.16186812 0.36817405 0.07569613]\n",
      " [0.10321835 0.36612568 0.19021125 0.28944846 0.05099626]\n",
      " [0.06471773 0.22798248 0.12494781 0.47681308 0.1055389 ]]\n",
      "First 10 Actual labels: [[2], [4], [5], [2], [2], [4], [2], [4], [1], [4]]\n"
     ]
    }
   ],
   "source": [
    "#Predict_Proba\n",
    "probability_class_1 = classifier.predict_proba(X_test)\n",
    "print(f\"First 3 Predictions: {probability_class_1[:10]}\")\n",
    "print(f\"First 10 Actual labels: {y_test[:10].values.tolist()}\")"
   ]
  },
  {
   "cell_type": "code",
   "execution_count": 323,
   "metadata": {},
   "outputs": [],
   "source": [
    "# Save the model\n",
    "import pickle\n",
    "filename = 'finalized_winning_horsemodel.sav'\n",
    "pickle.dump(classifier, open(filename, 'wb'))"
   ]
  },
  {
   "cell_type": "code",
   "execution_count": 324,
   "metadata": {},
   "outputs": [
    {
     "name": "stdout",
     "output_type": "stream",
     "text": [
      "0.37777777777777777\n"
     ]
    }
   ],
   "source": [
    "# How to load the model from disk (perhaps at a later date when needed):   \n",
    " loaded_model = pickle.load(open(filename, 'rb'))\n",
    " result = loaded_model.score(X_test, y_test)\n",
    " print(result)"
   ]
  },
  {
   "cell_type": "code",
   "execution_count": 325,
   "metadata": {},
   "outputs": [
    {
     "data": {
      "text/plain": [
       "<matplotlib.axes._subplots.AxesSubplot at 0x1468e4ac8>"
      ]
     },
     "execution_count": 325,
     "metadata": {},
     "output_type": "execute_result"
    },
    {
     "data": {
      "image/png": "[encoded data removed]",
      "text/plain": [
       "<Figure size 432x288 with 1 Axes>"
      ]
     },
     "metadata": {
      "needs_background": "light"
     },
     "output_type": "display_data"
    }
   ],
   "source": [
    "new_table.boxplot(column=\"Place_Bins\",by=\"Dosage_Index\")"
   ]
  },
  {
   "cell_type": "code",
   "execution_count": 326,
   "metadata": {},
   "outputs": [
    {
     "data": {
      "text/plain": [
       "[<matplotlib.lines.Line2D at 0x147b62ba8>]"
      ]
     },
     "execution_count": 326,
     "metadata": {},
     "output_type": "execute_result"
    },
    {
     "data": {
      "image/png": "[encoded data removed]",
      "text/plain": [
       "<Figure size 432x288 with 1 Axes>"
      ]
     },
     "metadata": {
      "needs_background": "light"
     },
     "output_type": "display_data"
    }
   ],
   "source": [
    "# Basic chart\n",
    "plt.plot('Prediction', 'Actual', data=prediction_df, linestyle='none', marker='o')"
   ]
  },
  {
   "cell_type": "code",
   "execution_count": 327,
   "metadata": {},
   "outputs": [
    {
     "data": {
      "text/plain": [
       "<matplotlib.collections.PathCollection at 0x146a79d68>"
      ]
     },
     "execution_count": 327,
     "metadata": {},
     "output_type": "execute_result"
    },
    {
     "data": {
      "image/png": "[encoded data removed]",
      "text/plain": [
       "<Figure size 432x288 with 1 Axes>"
      ]
     },
     "metadata": {
      "needs_background": "light"
     },
     "output_type": "display_data"
    }
   ],
   "source": [
    "plt.scatter(prediction_df.Prediction, prediction_df.Actual)"
   ]
  },
  {
   "cell_type": "code",
   "execution_count": 328,
   "metadata": {},
   "outputs": [],
   "source": [
    "import matplotlib.pyplot as plt\n",
    "import scikitplot as skplt"
   ]
  },
  {
   "cell_type": "code",
   "execution_count": 329,
   "metadata": {},
   "outputs": [
    {
     "ename": "ValueError",
     "evalue": "Found input variables with inconsistent numbers of samples: [178, 45]",
     "output_type": "error",
     "traceback": [
      "\u001b[0;31m---------------------------------------------------------------------------\u001b[0m",
      "\u001b[0;31mValueError\u001b[0m                                Traceback (most recent call last)",
      "\u001b[0;32m<ipython-input-329-b3682870bf93>\u001b[0m in \u001b[0;36m<module>\u001b[0;34m\u001b[0m\n\u001b[0;32m----> 1\u001b[0;31m \u001b[0mskplt\u001b[0m\u001b[0;34m.\u001b[0m\u001b[0mmetrics\u001b[0m\u001b[0;34m.\u001b[0m\u001b[0mplot_confusion_matrix\u001b[0m\u001b[0;34m(\u001b[0m\u001b[0my\u001b[0m\u001b[0;34m,\u001b[0m \u001b[0mpredictions\u001b[0m\u001b[0;34m,\u001b[0m \u001b[0mnormalize\u001b[0m\u001b[0;34m=\u001b[0m\u001b[0;32mTrue\u001b[0m\u001b[0;34m)\u001b[0m\u001b[0;34m\u001b[0m\u001b[0;34m\u001b[0m\u001b[0m\n\u001b[0m\u001b[1;32m      2\u001b[0m \u001b[0mplt\u001b[0m\u001b[0;34m.\u001b[0m\u001b[0mshow\u001b[0m\u001b[0;34m(\u001b[0m\u001b[0;34m)\u001b[0m\u001b[0;34m\u001b[0m\u001b[0;34m\u001b[0m\u001b[0m\n",
      "\u001b[0;32m//anaconda3/envs/PythonData/lib/python3.6/site-packages/scikitplot/metrics.py\u001b[0m in \u001b[0;36mplot_confusion_matrix\u001b[0;34m(y_true, y_pred, labels, true_labels, pred_labels, title, normalize, hide_zeros, hide_counts, x_tick_rotation, ax, figsize, cmap, title_fontsize, text_fontsize)\u001b[0m\n\u001b[1;32m    115\u001b[0m         \u001b[0mfig\u001b[0m\u001b[0;34m,\u001b[0m \u001b[0max\u001b[0m \u001b[0;34m=\u001b[0m \u001b[0mplt\u001b[0m\u001b[0;34m.\u001b[0m\u001b[0msubplots\u001b[0m\u001b[0;34m(\u001b[0m\u001b[0;36m1\u001b[0m\u001b[0;34m,\u001b[0m \u001b[0;36m1\u001b[0m\u001b[0;34m,\u001b[0m \u001b[0mfigsize\u001b[0m\u001b[0;34m=\u001b[0m\u001b[0mfigsize\u001b[0m\u001b[0;34m)\u001b[0m\u001b[0;34m\u001b[0m\u001b[0;34m\u001b[0m\u001b[0m\n\u001b[1;32m    116\u001b[0m \u001b[0;34m\u001b[0m\u001b[0m\n\u001b[0;32m--> 117\u001b[0;31m     \u001b[0mcm\u001b[0m \u001b[0;34m=\u001b[0m \u001b[0mconfusion_matrix\u001b[0m\u001b[0;34m(\u001b[0m\u001b[0my_true\u001b[0m\u001b[0;34m,\u001b[0m \u001b[0my_pred\u001b[0m\u001b[0;34m,\u001b[0m \u001b[0mlabels\u001b[0m\u001b[0;34m=\u001b[0m\u001b[0mlabels\u001b[0m\u001b[0;34m)\u001b[0m\u001b[0;34m\u001b[0m\u001b[0;34m\u001b[0m\u001b[0m\n\u001b[0m\u001b[1;32m    118\u001b[0m     \u001b[0;32mif\u001b[0m \u001b[0mlabels\u001b[0m \u001b[0;32mis\u001b[0m \u001b[0;32mNone\u001b[0m\u001b[0;34m:\u001b[0m\u001b[0;34m\u001b[0m\u001b[0;34m\u001b[0m\u001b[0m\n\u001b[1;32m    119\u001b[0m         \u001b[0mclasses\u001b[0m \u001b[0;34m=\u001b[0m \u001b[0munique_labels\u001b[0m\u001b[0;34m(\u001b[0m\u001b[0my_true\u001b[0m\u001b[0;34m,\u001b[0m \u001b[0my_pred\u001b[0m\u001b[0;34m)\u001b[0m\u001b[0;34m\u001b[0m\u001b[0;34m\u001b[0m\u001b[0m\n",
      "\u001b[0;32m//anaconda3/envs/PythonData/lib/python3.6/site-packages/sklearn/metrics/classification.py\u001b[0m in \u001b[0;36mconfusion_matrix\u001b[0;34m(y_true, y_pred, labels, sample_weight)\u001b[0m\n\u001b[1;32m    251\u001b[0m \u001b[0;34m\u001b[0m\u001b[0m\n\u001b[1;32m    252\u001b[0m     \"\"\"\n\u001b[0;32m--> 253\u001b[0;31m     \u001b[0my_type\u001b[0m\u001b[0;34m,\u001b[0m \u001b[0my_true\u001b[0m\u001b[0;34m,\u001b[0m \u001b[0my_pred\u001b[0m \u001b[0;34m=\u001b[0m \u001b[0m_check_targets\u001b[0m\u001b[0;34m(\u001b[0m\u001b[0my_true\u001b[0m\u001b[0;34m,\u001b[0m \u001b[0my_pred\u001b[0m\u001b[0;34m)\u001b[0m\u001b[0;34m\u001b[0m\u001b[0;34m\u001b[0m\u001b[0m\n\u001b[0m\u001b[1;32m    254\u001b[0m     \u001b[0;32mif\u001b[0m \u001b[0my_type\u001b[0m \u001b[0;32mnot\u001b[0m \u001b[0;32min\u001b[0m \u001b[0;34m(\u001b[0m\u001b[0;34m\"binary\"\u001b[0m\u001b[0;34m,\u001b[0m \u001b[0;34m\"multiclass\"\u001b[0m\u001b[0;34m)\u001b[0m\u001b[0;34m:\u001b[0m\u001b[0;34m\u001b[0m\u001b[0;34m\u001b[0m\u001b[0m\n\u001b[1;32m    255\u001b[0m         \u001b[0;32mraise\u001b[0m \u001b[0mValueError\u001b[0m\u001b[0;34m(\u001b[0m\u001b[0;34m\"%s is not supported\"\u001b[0m \u001b[0;34m%\u001b[0m \u001b[0my_type\u001b[0m\u001b[0;34m)\u001b[0m\u001b[0;34m\u001b[0m\u001b[0;34m\u001b[0m\u001b[0m\n",
      "\u001b[0;32m//anaconda3/envs/PythonData/lib/python3.6/site-packages/sklearn/metrics/classification.py\u001b[0m in \u001b[0;36m_check_targets\u001b[0;34m(y_true, y_pred)\u001b[0m\n\u001b[1;32m     69\u001b[0m     \u001b[0my_pred\u001b[0m \u001b[0;34m:\u001b[0m \u001b[0marray\u001b[0m \u001b[0;32mor\u001b[0m \u001b[0mindicator\u001b[0m \u001b[0mmatrix\u001b[0m\u001b[0;34m\u001b[0m\u001b[0;34m\u001b[0m\u001b[0m\n\u001b[1;32m     70\u001b[0m     \"\"\"\n\u001b[0;32m---> 71\u001b[0;31m     \u001b[0mcheck_consistent_length\u001b[0m\u001b[0;34m(\u001b[0m\u001b[0my_true\u001b[0m\u001b[0;34m,\u001b[0m \u001b[0my_pred\u001b[0m\u001b[0;34m)\u001b[0m\u001b[0;34m\u001b[0m\u001b[0;34m\u001b[0m\u001b[0m\n\u001b[0m\u001b[1;32m     72\u001b[0m     \u001b[0mtype_true\u001b[0m \u001b[0;34m=\u001b[0m \u001b[0mtype_of_target\u001b[0m\u001b[0;34m(\u001b[0m\u001b[0my_true\u001b[0m\u001b[0;34m)\u001b[0m\u001b[0;34m\u001b[0m\u001b[0;34m\u001b[0m\u001b[0m\n\u001b[1;32m     73\u001b[0m     \u001b[0mtype_pred\u001b[0m \u001b[0;34m=\u001b[0m \u001b[0mtype_of_target\u001b[0m\u001b[0;34m(\u001b[0m\u001b[0my_pred\u001b[0m\u001b[0;34m)\u001b[0m\u001b[0;34m\u001b[0m\u001b[0;34m\u001b[0m\u001b[0m\n",
      "\u001b[0;32m//anaconda3/envs/PythonData/lib/python3.6/site-packages/sklearn/utils/validation.py\u001b[0m in \u001b[0;36mcheck_consistent_length\u001b[0;34m(*arrays)\u001b[0m\n\u001b[1;32m    203\u001b[0m     \u001b[0;32mif\u001b[0m \u001b[0mlen\u001b[0m\u001b[0;34m(\u001b[0m\u001b[0muniques\u001b[0m\u001b[0;34m)\u001b[0m \u001b[0;34m>\u001b[0m \u001b[0;36m1\u001b[0m\u001b[0;34m:\u001b[0m\u001b[0;34m\u001b[0m\u001b[0;34m\u001b[0m\u001b[0m\n\u001b[1;32m    204\u001b[0m         raise ValueError(\"Found input variables with inconsistent numbers of\"\n\u001b[0;32m--> 205\u001b[0;31m                          \" samples: %r\" % [int(l) for l in lengths])\n\u001b[0m\u001b[1;32m    206\u001b[0m \u001b[0;34m\u001b[0m\u001b[0m\n\u001b[1;32m    207\u001b[0m \u001b[0;34m\u001b[0m\u001b[0m\n",
      "\u001b[0;31mValueError\u001b[0m: Found input variables with inconsistent numbers of samples: [178, 45]"
     ]
    },
    {
     "data": {
      "image/png": "[encoded data removed]",
      "text/plain": [
       "<Figure size 432x288 with 1 Axes>"
      ]
     },
     "metadata": {
      "needs_background": "light"
     },
     "output_type": "display_data"
    }
   ],
   "source": [
    "skplt.metrics.plot_confusion_matrix(y, predictions, normalize=True)\n",
    "plt.show()"
   ]
  },
  {
   "cell_type": "code",
   "execution_count": null,
   "metadata": {},
   "outputs": [],
   "source": []
  }
 ],
 "metadata": {
  "kernelspec": {
   "display_name": "Python 3",
   "language": "python",
   "name": "python3"
  },
  "language_info": {
   "codemirror_mode": {
    "name": "ipython",
    "version": 3
   },
   "file_extension": ".py",
   "mimetype": "text/x-python",
   "name": "python",
   "nbconvert_exporter": "python",
   "pygments_lexer": "ipython3",
   "version": "3.6.9"
  }
 },
 "nbformat": 4,
 "nbformat_minor": 2
}
